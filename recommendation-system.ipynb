{
 "cells": [
  {
   "cell_type": "code",
   "execution_count": 1,
   "id": "cc0620f1",
   "metadata": {},
   "outputs": [],
   "source": [
    "import pandas as pd\n",
    "import numpy as np\n",
    "\n",
    "import collections\n",
    "\n",
    "import seaborn as sns\n",
    "import plotly.express as px\n",
    "import plotly.graph_objects as go\n",
    "import matplotlib.pyplot as plt\n",
    "from sklearn.feature_extraction.text import TfidfVectorizer\n",
    "from sklearn.metrics.pairwise import cosine_similarity\n",
    "from sklearn.decomposition import TruncatedSVD"
   ]
  },
  {
   "cell_type": "code",
   "execution_count": 2,
   "id": "efb28cca",
   "metadata": {},
   "outputs": [
    {
     "name": "stdout",
     "output_type": "stream",
     "text": [
      "(45466, 24)\n"
     ]
    }
   ],
   "source": [
    "movie_md=pd.read_csv('data/movies_metadata.csv',low_memory=False)\n",
    "movie_keywords=pd.read_csv('data/keywords.csv',low_memory=False)\n",
    "movie_credits=pd.read_csv('data/credits.csv',low_memory=False)\n",
    "ratings = pd.read_csv(\"data/ratings_small.csv\")\n",
    "print(movie_md.shape)"
   ]
  },
  {
   "cell_type": "code",
   "execution_count": 3,
   "id": "7d6a56f1",
   "metadata": {},
   "outputs": [],
   "source": [
    "movie_md = movie_md[movie_md['vote_count']>=55]\n",
    "\n",
    "# IDs of movies with count more than 55\n",
    "movie_ids = [int(x) for x in movie_md['id'].values]\n",
    "\n",
    "# Select ratings of movies with more than 55 counts\n",
    "ratings = ratings[ratings['movieId'].isin(movie_ids)]\n",
    "\n",
    "# Reset Index\n",
    "ratings.reset_index(inplace=True, drop=True)\n",
    "\n",
    "movie_md = movie_md[['id','original_title','overview','genres']]\n",
    "\n",
    "movie_md['title'] = movie_md['original_title'].copy()\n",
    "\n",
    "movie_md.reset_index(inplace=True, drop=True)\n",
    "\n",
    "movie_credits = movie_credits[['id','cast']]"
   ]
  },
  {
   "cell_type": "code",
   "execution_count": 4,
   "id": "3a94bff0",
   "metadata": {},
   "outputs": [
    {
     "data": {
      "text/html": [
       "<div>\n",
       "<style scoped>\n",
       "    .dataframe tbody tr th:only-of-type {\n",
       "        vertical-align: middle;\n",
       "    }\n",
       "\n",
       "    .dataframe tbody tr th {\n",
       "        vertical-align: top;\n",
       "    }\n",
       "\n",
       "    .dataframe thead th {\n",
       "        text-align: right;\n",
       "    }\n",
       "</style>\n",
       "<table border=\"1\" class=\"dataframe\">\n",
       "  <thead>\n",
       "    <tr style=\"text-align: right;\">\n",
       "      <th></th>\n",
       "      <th>id</th>\n",
       "      <th>cast</th>\n",
       "    </tr>\n",
       "  </thead>\n",
       "  <tbody>\n",
       "    <tr>\n",
       "      <th>0</th>\n",
       "      <td>862</td>\n",
       "      <td>[{'cast_id': 14, 'character': 'Woody (voice)',...</td>\n",
       "    </tr>\n",
       "    <tr>\n",
       "      <th>1</th>\n",
       "      <td>8844</td>\n",
       "      <td>[{'cast_id': 1, 'character': 'Alan Parrish', '...</td>\n",
       "    </tr>\n",
       "    <tr>\n",
       "      <th>2</th>\n",
       "      <td>15602</td>\n",
       "      <td>[{'cast_id': 2, 'character': 'Max Goldman', 'c...</td>\n",
       "    </tr>\n",
       "    <tr>\n",
       "      <th>3</th>\n",
       "      <td>31357</td>\n",
       "      <td>[{'cast_id': 1, 'character': \"Savannah 'Vannah...</td>\n",
       "    </tr>\n",
       "    <tr>\n",
       "      <th>4</th>\n",
       "      <td>11862</td>\n",
       "      <td>[{'cast_id': 1, 'character': 'George Banks', '...</td>\n",
       "    </tr>\n",
       "  </tbody>\n",
       "</table>\n",
       "</div>"
      ],
      "text/plain": [
       "      id                                               cast\n",
       "0    862  [{'cast_id': 14, 'character': 'Woody (voice)',...\n",
       "1   8844  [{'cast_id': 1, 'character': 'Alan Parrish', '...\n",
       "2  15602  [{'cast_id': 2, 'character': 'Max Goldman', 'c...\n",
       "3  31357  [{'cast_id': 1, 'character': \"Savannah 'Vannah...\n",
       "4  11862  [{'cast_id': 1, 'character': 'George Banks', '..."
      ]
     },
     "execution_count": 4,
     "metadata": {},
     "output_type": "execute_result"
    }
   ],
   "source": [
    "movie_credits.head()"
   ]
  },
  {
   "cell_type": "code",
   "execution_count": 5,
   "id": "582178d8",
   "metadata": {},
   "outputs": [
    {
     "data": {
      "text/html": [
       "<div>\n",
       "<style scoped>\n",
       "    .dataframe tbody tr th:only-of-type {\n",
       "        vertical-align: middle;\n",
       "    }\n",
       "\n",
       "    .dataframe tbody tr th {\n",
       "        vertical-align: top;\n",
       "    }\n",
       "\n",
       "    .dataframe thead th {\n",
       "        text-align: right;\n",
       "    }\n",
       "</style>\n",
       "<table border=\"1\" class=\"dataframe\">\n",
       "  <thead>\n",
       "    <tr style=\"text-align: right;\">\n",
       "      <th></th>\n",
       "      <th>id</th>\n",
       "      <th>original_title</th>\n",
       "      <th>overview</th>\n",
       "      <th>genres</th>\n",
       "      <th>title</th>\n",
       "    </tr>\n",
       "  </thead>\n",
       "  <tbody>\n",
       "    <tr>\n",
       "      <th>0</th>\n",
       "      <td>862</td>\n",
       "      <td>Toy Story</td>\n",
       "      <td>Led by Woody, Andy's toys live happily in his ...</td>\n",
       "      <td>[{'id': 16, 'name': 'Animation'}, {'id': 35, '...</td>\n",
       "      <td>Toy Story</td>\n",
       "    </tr>\n",
       "    <tr>\n",
       "      <th>1</th>\n",
       "      <td>8844</td>\n",
       "      <td>Jumanji</td>\n",
       "      <td>When siblings Judy and Peter discover an encha...</td>\n",
       "      <td>[{'id': 12, 'name': 'Adventure'}, {'id': 14, '...</td>\n",
       "      <td>Jumanji</td>\n",
       "    </tr>\n",
       "    <tr>\n",
       "      <th>2</th>\n",
       "      <td>15602</td>\n",
       "      <td>Grumpier Old Men</td>\n",
       "      <td>A family wedding reignites the ancient feud be...</td>\n",
       "      <td>[{'id': 10749, 'name': 'Romance'}, {'id': 35, ...</td>\n",
       "      <td>Grumpier Old Men</td>\n",
       "    </tr>\n",
       "    <tr>\n",
       "      <th>3</th>\n",
       "      <td>11862</td>\n",
       "      <td>Father of the Bride Part II</td>\n",
       "      <td>Just when George Banks has recovered from his ...</td>\n",
       "      <td>[{'id': 35, 'name': 'Comedy'}]</td>\n",
       "      <td>Father of the Bride Part II</td>\n",
       "    </tr>\n",
       "    <tr>\n",
       "      <th>4</th>\n",
       "      <td>949</td>\n",
       "      <td>Heat</td>\n",
       "      <td>Obsessive master thief, Neil McCauley leads a ...</td>\n",
       "      <td>[{'id': 28, 'name': 'Action'}, {'id': 80, 'nam...</td>\n",
       "      <td>Heat</td>\n",
       "    </tr>\n",
       "  </tbody>\n",
       "</table>\n",
       "</div>"
      ],
      "text/plain": [
       "      id               original_title  \\\n",
       "0    862                    Toy Story   \n",
       "1   8844                      Jumanji   \n",
       "2  15602             Grumpier Old Men   \n",
       "3  11862  Father of the Bride Part II   \n",
       "4    949                         Heat   \n",
       "\n",
       "                                            overview  \\\n",
       "0  Led by Woody, Andy's toys live happily in his ...   \n",
       "1  When siblings Judy and Peter discover an encha...   \n",
       "2  A family wedding reignites the ancient feud be...   \n",
       "3  Just when George Banks has recovered from his ...   \n",
       "4  Obsessive master thief, Neil McCauley leads a ...   \n",
       "\n",
       "                                              genres  \\\n",
       "0  [{'id': 16, 'name': 'Animation'}, {'id': 35, '...   \n",
       "1  [{'id': 12, 'name': 'Adventure'}, {'id': 14, '...   \n",
       "2  [{'id': 10749, 'name': 'Romance'}, {'id': 35, ...   \n",
       "3                     [{'id': 35, 'name': 'Comedy'}]   \n",
       "4  [{'id': 28, 'name': 'Action'}, {'id': 80, 'nam...   \n",
       "\n",
       "                         title  \n",
       "0                    Toy Story  \n",
       "1                      Jumanji  \n",
       "2             Grumpier Old Men  \n",
       "3  Father of the Bride Part II  \n",
       "4                         Heat  "
      ]
     },
     "execution_count": 5,
     "metadata": {},
     "output_type": "execute_result"
    }
   ],
   "source": [
    "movie_md.head()"
   ]
  },
  {
   "cell_type": "markdown",
   "id": "e05c7331",
   "metadata": {},
   "source": [
    "## Data Cleaning & Preprocessing"
   ]
  },
  {
   "cell_type": "code",
   "execution_count": 6,
   "id": "5e7213a9",
   "metadata": {},
   "outputs": [
    {
     "data": {
      "text/html": [
       "<div>\n",
       "<style scoped>\n",
       "    .dataframe tbody tr th:only-of-type {\n",
       "        vertical-align: middle;\n",
       "    }\n",
       "\n",
       "    .dataframe tbody tr th {\n",
       "        vertical-align: top;\n",
       "    }\n",
       "\n",
       "    .dataframe thead th {\n",
       "        text-align: right;\n",
       "    }\n",
       "</style>\n",
       "<table border=\"1\" class=\"dataframe\">\n",
       "  <thead>\n",
       "    <tr style=\"text-align: right;\">\n",
       "      <th></th>\n",
       "      <th>id</th>\n",
       "      <th>original_title</th>\n",
       "      <th>overview</th>\n",
       "      <th>genres</th>\n",
       "      <th>title</th>\n",
       "      <th>keywords</th>\n",
       "      <th>cast</th>\n",
       "    </tr>\n",
       "  </thead>\n",
       "  <tbody>\n",
       "    <tr>\n",
       "      <th>0</th>\n",
       "      <td>862</td>\n",
       "      <td>Toy Story</td>\n",
       "      <td>Led by Woody, Andy's toys live happily in his ...</td>\n",
       "      <td>[{'id': 16, 'name': 'Animation'}, {'id': 35, '...</td>\n",
       "      <td>Toy Story</td>\n",
       "      <td>[{'id': 931, 'name': 'jealousy'}, {'id': 4290,...</td>\n",
       "      <td>[{'cast_id': 14, 'character': 'Woody (voice)',...</td>\n",
       "    </tr>\n",
       "    <tr>\n",
       "      <th>1</th>\n",
       "      <td>8844</td>\n",
       "      <td>Jumanji</td>\n",
       "      <td>When siblings Judy and Peter discover an encha...</td>\n",
       "      <td>[{'id': 12, 'name': 'Adventure'}, {'id': 14, '...</td>\n",
       "      <td>Jumanji</td>\n",
       "      <td>[{'id': 10090, 'name': 'board game'}, {'id': 1...</td>\n",
       "      <td>[{'cast_id': 1, 'character': 'Alan Parrish', '...</td>\n",
       "    </tr>\n",
       "    <tr>\n",
       "      <th>2</th>\n",
       "      <td>15602</td>\n",
       "      <td>Grumpier Old Men</td>\n",
       "      <td>A family wedding reignites the ancient feud be...</td>\n",
       "      <td>[{'id': 10749, 'name': 'Romance'}, {'id': 35, ...</td>\n",
       "      <td>Grumpier Old Men</td>\n",
       "      <td>[{'id': 1495, 'name': 'fishing'}, {'id': 12392...</td>\n",
       "      <td>[{'cast_id': 2, 'character': 'Max Goldman', 'c...</td>\n",
       "    </tr>\n",
       "    <tr>\n",
       "      <th>3</th>\n",
       "      <td>11862</td>\n",
       "      <td>Father of the Bride Part II</td>\n",
       "      <td>Just when George Banks has recovered from his ...</td>\n",
       "      <td>[{'id': 35, 'name': 'Comedy'}]</td>\n",
       "      <td>Father of the Bride Part II</td>\n",
       "      <td>[{'id': 1009, 'name': 'baby'}, {'id': 1599, 'n...</td>\n",
       "      <td>[{'cast_id': 1, 'character': 'George Banks', '...</td>\n",
       "    </tr>\n",
       "    <tr>\n",
       "      <th>4</th>\n",
       "      <td>949</td>\n",
       "      <td>Heat</td>\n",
       "      <td>Obsessive master thief, Neil McCauley leads a ...</td>\n",
       "      <td>[{'id': 28, 'name': 'Action'}, {'id': 80, 'nam...</td>\n",
       "      <td>Heat</td>\n",
       "      <td>[{'id': 642, 'name': 'robbery'}, {'id': 703, '...</td>\n",
       "      <td>[{'cast_id': 25, 'character': 'Lt. Vincent Han...</td>\n",
       "    </tr>\n",
       "  </tbody>\n",
       "</table>\n",
       "</div>"
      ],
      "text/plain": [
       "      id               original_title  \\\n",
       "0    862                    Toy Story   \n",
       "1   8844                      Jumanji   \n",
       "2  15602             Grumpier Old Men   \n",
       "3  11862  Father of the Bride Part II   \n",
       "4    949                         Heat   \n",
       "\n",
       "                                            overview  \\\n",
       "0  Led by Woody, Andy's toys live happily in his ...   \n",
       "1  When siblings Judy and Peter discover an encha...   \n",
       "2  A family wedding reignites the ancient feud be...   \n",
       "3  Just when George Banks has recovered from his ...   \n",
       "4  Obsessive master thief, Neil McCauley leads a ...   \n",
       "\n",
       "                                              genres  \\\n",
       "0  [{'id': 16, 'name': 'Animation'}, {'id': 35, '...   \n",
       "1  [{'id': 12, 'name': 'Adventure'}, {'id': 14, '...   \n",
       "2  [{'id': 10749, 'name': 'Romance'}, {'id': 35, ...   \n",
       "3                     [{'id': 35, 'name': 'Comedy'}]   \n",
       "4  [{'id': 28, 'name': 'Action'}, {'id': 80, 'nam...   \n",
       "\n",
       "                         title  \\\n",
       "0                    Toy Story   \n",
       "1                      Jumanji   \n",
       "2             Grumpier Old Men   \n",
       "3  Father of the Bride Part II   \n",
       "4                         Heat   \n",
       "\n",
       "                                            keywords  \\\n",
       "0  [{'id': 931, 'name': 'jealousy'}, {'id': 4290,...   \n",
       "1  [{'id': 10090, 'name': 'board game'}, {'id': 1...   \n",
       "2  [{'id': 1495, 'name': 'fishing'}, {'id': 12392...   \n",
       "3  [{'id': 1009, 'name': 'baby'}, {'id': 1599, 'n...   \n",
       "4  [{'id': 642, 'name': 'robbery'}, {'id': 703, '...   \n",
       "\n",
       "                                                cast  \n",
       "0  [{'cast_id': 14, 'character': 'Woody (voice)',...  \n",
       "1  [{'cast_id': 1, 'character': 'Alan Parrish', '...  \n",
       "2  [{'cast_id': 2, 'character': 'Max Goldman', 'c...  \n",
       "3  [{'cast_id': 1, 'character': 'George Banks', '...  \n",
       "4  [{'cast_id': 25, 'character': 'Lt. Vincent Han...  "
      ]
     },
     "execution_count": 6,
     "metadata": {},
     "output_type": "execute_result"
    }
   ],
   "source": [
    "movie_md = movie_md[movie_md['id'].str.isnumeric()]\n",
    "\n",
    "movie_md['id'] = movie_md['id'].astype(int)\n",
    "\n",
    "df = pd.merge(movie_md, movie_keywords, on='id', how='left')\n",
    "\n",
    "df.reset_index(inplace=True, drop=True)\n",
    "\n",
    "df = pd.merge(df, movie_credits, on='id', how='left')\n",
    "\n",
    "df.reset_index(inplace=True, drop=True)\n",
    "\n",
    "df.head()\n"
   ]
  },
  {
   "cell_type": "code",
   "execution_count": 7,
   "id": "2350d54b",
   "metadata": {
    "scrolled": true
   },
   "outputs": [
    {
     "data": {
      "text/html": [
       "<div>\n",
       "<style scoped>\n",
       "    .dataframe tbody tr th:only-of-type {\n",
       "        vertical-align: middle;\n",
       "    }\n",
       "\n",
       "    .dataframe tbody tr th {\n",
       "        vertical-align: top;\n",
       "    }\n",
       "\n",
       "    .dataframe thead th {\n",
       "        text-align: right;\n",
       "    }\n",
       "</style>\n",
       "<table border=\"1\" class=\"dataframe\">\n",
       "  <thead>\n",
       "    <tr style=\"text-align: right;\">\n",
       "      <th></th>\n",
       "      <th>id</th>\n",
       "      <th>original_title</th>\n",
       "      <th>overview</th>\n",
       "      <th>genres</th>\n",
       "      <th>title</th>\n",
       "      <th>keywords</th>\n",
       "      <th>cast</th>\n",
       "    </tr>\n",
       "  </thead>\n",
       "  <tbody>\n",
       "    <tr>\n",
       "      <th>0</th>\n",
       "      <td>862</td>\n",
       "      <td>Toy Story</td>\n",
       "      <td>Led by Woody, Andy's toys live happily in his ...</td>\n",
       "      <td>Animation Comedy Family</td>\n",
       "      <td>Toy Story</td>\n",
       "      <td>jealousy toy boy friendship friends rivalry bo...</td>\n",
       "      <td>TomHanks TimAllen DonRickles JimVarney Wallace...</td>\n",
       "    </tr>\n",
       "    <tr>\n",
       "      <th>1</th>\n",
       "      <td>8844</td>\n",
       "      <td>Jumanji</td>\n",
       "      <td>When siblings Judy and Peter discover an encha...</td>\n",
       "      <td>Adventure Fantasy Family</td>\n",
       "      <td>Jumanji</td>\n",
       "      <td>boardgame disappearance basedonchildren'sbook ...</td>\n",
       "      <td>RobinWilliams JonathanHyde KirstenDunst Bradle...</td>\n",
       "    </tr>\n",
       "    <tr>\n",
       "      <th>2</th>\n",
       "      <td>15602</td>\n",
       "      <td>Grumpier Old Men</td>\n",
       "      <td>A family wedding reignites the ancient feud be...</td>\n",
       "      <td>Romance Comedy</td>\n",
       "      <td>Grumpier Old Men</td>\n",
       "      <td>fishing bestfriend duringcreditsstinger oldmen</td>\n",
       "      <td>WalterMatthau JackLemmon Ann-Margret SophiaLor...</td>\n",
       "    </tr>\n",
       "    <tr>\n",
       "      <th>3</th>\n",
       "      <td>11862</td>\n",
       "      <td>Father of the Bride Part II</td>\n",
       "      <td>Just when George Banks has recovered from his ...</td>\n",
       "      <td>Comedy</td>\n",
       "      <td>Father of the Bride Part II</td>\n",
       "      <td>baby midlifecrisis confidence aging daughter m...</td>\n",
       "      <td>SteveMartin DianeKeaton MartinShort KimberlyWi...</td>\n",
       "    </tr>\n",
       "    <tr>\n",
       "      <th>4</th>\n",
       "      <td>949</td>\n",
       "      <td>Heat</td>\n",
       "      <td>Obsessive master thief, Neil McCauley leads a ...</td>\n",
       "      <td>Action Crime Drama Thriller</td>\n",
       "      <td>Heat</td>\n",
       "      <td>robbery detective bank obsession chase shootin...</td>\n",
       "      <td>AlPacino RobertDeNiro ValKilmer JonVoight TomS...</td>\n",
       "    </tr>\n",
       "  </tbody>\n",
       "</table>\n",
       "</div>"
      ],
      "text/plain": [
       "      id               original_title  \\\n",
       "0    862                    Toy Story   \n",
       "1   8844                      Jumanji   \n",
       "2  15602             Grumpier Old Men   \n",
       "3  11862  Father of the Bride Part II   \n",
       "4    949                         Heat   \n",
       "\n",
       "                                            overview  \\\n",
       "0  Led by Woody, Andy's toys live happily in his ...   \n",
       "1  When siblings Judy and Peter discover an encha...   \n",
       "2  A family wedding reignites the ancient feud be...   \n",
       "3  Just when George Banks has recovered from his ...   \n",
       "4  Obsessive master thief, Neil McCauley leads a ...   \n",
       "\n",
       "                        genres                        title  \\\n",
       "0      Animation Comedy Family                    Toy Story   \n",
       "1     Adventure Fantasy Family                      Jumanji   \n",
       "2               Romance Comedy             Grumpier Old Men   \n",
       "3                       Comedy  Father of the Bride Part II   \n",
       "4  Action Crime Drama Thriller                         Heat   \n",
       "\n",
       "                                            keywords  \\\n",
       "0  jealousy toy boy friendship friends rivalry bo...   \n",
       "1  boardgame disappearance basedonchildren'sbook ...   \n",
       "2     fishing bestfriend duringcreditsstinger oldmen   \n",
       "3  baby midlifecrisis confidence aging daughter m...   \n",
       "4  robbery detective bank obsession chase shootin...   \n",
       "\n",
       "                                                cast  \n",
       "0  TomHanks TimAllen DonRickles JimVarney Wallace...  \n",
       "1  RobinWilliams JonathanHyde KirstenDunst Bradle...  \n",
       "2  WalterMatthau JackLemmon Ann-Margret SophiaLor...  \n",
       "3  SteveMartin DianeKeaton MartinShort KimberlyWi...  \n",
       "4  AlPacino RobertDeNiro ValKilmer JonVoight TomS...  "
      ]
     },
     "execution_count": 7,
     "metadata": {},
     "output_type": "execute_result"
    }
   ],
   "source": [
    "genres_list = []\n",
    "\n",
    "df['genres'].apply(lambda x: [genres_list.append(i['name']) for i in eval(x)])\n",
    "\n",
    "genres_frequency = collections.Counter(genres_list)\n",
    "\n",
    "df['genres'] = df['genres'].apply(lambda x: [i['name'] for i in eval(x)])\n",
    "\n",
    "df['genres'] = df['genres'].apply(lambda x: ' '.join([i.replace(\" \",\"\") for i in x]))\n",
    "#Filling the nan values as []\n",
    "df['keywords'].fillna('[]', inplace=True)\n",
    "\n",
    "df['keywords'] = df['keywords'].apply(lambda x: [i['name'] for i in eval(x)])\n",
    "\n",
    "df['keywords'] = df['keywords'].apply(lambda x: ' '.join([i.replace(\" \",'') for i in x]))\n",
    "\n",
    "#Filling the nan values as []\n",
    "\n",
    "df['cast'].fillna('[]', inplace=True)\n",
    "\n",
    "cast_list = []\n",
    "\n",
    "df['cast'].apply(lambda x: [cast_list.append(i['name']) for i in eval(x)])\n",
    "\n",
    "cast_frequency = collections.Counter(cast_list)\n",
    "\n",
    "df['cast'] = df['cast'].apply(lambda x: [i['name'] for i in eval(x)])\n",
    "\n",
    "df['cast'] = df['cast'].apply(lambda x: ' '.join([i.replace(\" \",'') for i in x]))\n",
    "df.head()"
   ]
  },
  {
   "cell_type": "markdown",
   "id": "cfaee90a",
   "metadata": {},
   "source": [
    "## merge all content/description of movies as a single feature"
   ]
  },
  {
   "cell_type": "code",
   "execution_count": 8,
   "id": "357b200d",
   "metadata": {},
   "outputs": [
    {
     "data": {
      "text/html": [
       "<div>\n",
       "<style scoped>\n",
       "    .dataframe tbody tr th:only-of-type {\n",
       "        vertical-align: middle;\n",
       "    }\n",
       "\n",
       "    .dataframe tbody tr th {\n",
       "        vertical-align: top;\n",
       "    }\n",
       "\n",
       "    .dataframe thead th {\n",
       "        text-align: right;\n",
       "    }\n",
       "</style>\n",
       "<table border=\"1\" class=\"dataframe\">\n",
       "  <thead>\n",
       "    <tr style=\"text-align: right;\">\n",
       "      <th></th>\n",
       "      <th>id</th>\n",
       "      <th>title</th>\n",
       "      <th>tags</th>\n",
       "    </tr>\n",
       "  </thead>\n",
       "  <tbody>\n",
       "    <tr>\n",
       "      <th>0</th>\n",
       "      <td>862</td>\n",
       "      <td>Toy Story</td>\n",
       "      <td>Led by Woody, Andy's toys live happily in his ...</td>\n",
       "    </tr>\n",
       "    <tr>\n",
       "      <th>1</th>\n",
       "      <td>8844</td>\n",
       "      <td>Jumanji</td>\n",
       "      <td>When siblings Judy and Peter discover an encha...</td>\n",
       "    </tr>\n",
       "    <tr>\n",
       "      <th>2</th>\n",
       "      <td>15602</td>\n",
       "      <td>Grumpier Old Men</td>\n",
       "      <td>A family wedding reignites the ancient feud be...</td>\n",
       "    </tr>\n",
       "    <tr>\n",
       "      <th>3</th>\n",
       "      <td>11862</td>\n",
       "      <td>Father of the Bride Part II</td>\n",
       "      <td>Just when George Banks has recovered from his ...</td>\n",
       "    </tr>\n",
       "    <tr>\n",
       "      <th>4</th>\n",
       "      <td>949</td>\n",
       "      <td>Heat</td>\n",
       "      <td>Obsessive master thief, Neil McCauley leads a ...</td>\n",
       "    </tr>\n",
       "  </tbody>\n",
       "</table>\n",
       "</div>"
      ],
      "text/plain": [
       "      id                        title  \\\n",
       "0    862                    Toy Story   \n",
       "1   8844                      Jumanji   \n",
       "2  15602             Grumpier Old Men   \n",
       "3  11862  Father of the Bride Part II   \n",
       "4    949                         Heat   \n",
       "\n",
       "                                                tags  \n",
       "0  Led by Woody, Andy's toys live happily in his ...  \n",
       "1  When siblings Judy and Peter discover an encha...  \n",
       "2  A family wedding reignites the ancient feud be...  \n",
       "3  Just when George Banks has recovered from his ...  \n",
       "4  Obsessive master thief, Neil McCauley leads a ...  "
      ]
     },
     "execution_count": 8,
     "metadata": {},
     "output_type": "execute_result"
    }
   ],
   "source": [
    "df['tags'] = df['overview'] + ' ' + df['genres'] +  ' ' + df['original_title'] + ' ' + df['keywords'] + ' ' + df['cast']\n",
    "\n",
    "# Delete useless columns\n",
    "df.drop(columns=['genres','overview','original_title','keywords','cast'], inplace=True)\n",
    "df.head()"
   ]
  },
  {
   "cell_type": "code",
   "execution_count": 9,
   "id": "b27fb474",
   "metadata": {},
   "outputs": [],
   "source": [
    "df.isnull().sum()\n",
    "\n",
    "df.drop(df[df['tags'].isnull()].index, inplace=True)\n",
    "df.drop_duplicates(inplace=True)"
   ]
  },
  {
   "cell_type": "code",
   "execution_count": 10,
   "id": "4b6539b9",
   "metadata": {},
   "outputs": [
    {
     "name": "stdout",
     "output_type": "stream",
     "text": [
      "(8595, 3000)\n"
     ]
    }
   ],
   "source": [
    "tfidf = TfidfVectorizer(max_features=5000)\n",
    "vectorized_data = tfidf.fit_transform(df['tags'].values)\n",
    "vectorized_dataframe = pd.DataFrame(vectorized_data.toarray(), index=df['tags'].index.tolist())\n",
    "\n",
    "#Perform Dimension Reduction¶\n",
    "svd = TruncatedSVD(n_components=3000)\n",
    "\n",
    "# Fit transform the data\n",
    "reduced_data = svd.fit_transform(vectorized_dataframe)\n",
    "\n",
    "# Print the shape\n",
    "print(reduced_data.shape)\n",
    "\n",
    "\n",
    "#Compute a similarity metric on vectors for recommendation\n",
    "similarity = cosine_similarity(reduced_data)"
   ]
  },
  {
   "cell_type": "code",
   "execution_count": 11,
   "id": "556ba81e",
   "metadata": {},
   "outputs": [
    {
     "name": "stdout",
     "output_type": "stream",
     "text": [
      "Brubaker\n",
      "杀破狼2\n",
      "In Hell\n",
      "A Christmas Story\n",
      "Un prophète\n",
      "The Samaritan\n",
      "Dark Passage\n",
      "Lock Up\n",
      "Rosewater\n",
      "None\n"
     ]
    }
   ],
   "source": [
    "# Making recommendations for a given movie\n",
    "def recommendation(movie_title):\n",
    "    id_of_movie = df[df['title'] == movie_title].index[0]\n",
    "    distances = similarity[id_of_movie]\n",
    "    movie_list = sorted(list(enumerate(distances)), reverse=True, key=lambda x: x[1])[1:10]\n",
    "\n",
    "    for i in movie_list:\n",
    "        print(df.iloc[i[0]].title)\n",
    "\n",
    "print(recommendation('The Shawshank Redemption'))"
   ]
  },
  {
   "cell_type": "code",
   "execution_count": 12,
   "id": "c4c8a8a6",
   "metadata": {},
   "outputs": [],
   "source": [
    "#We will merge the movies and credits dataframes and select the columns which are required and have a unified movies dataframe to work on.\n",
    "movie_md['genres'] = movie_md['genres'].str.strip('[]').str.replace(' ','').str.replace(\"'\",'')\n",
    "movie_md['genres'] = movie_md['genres'].str.split(',')"
   ]
  },
  {
   "cell_type": "code",
   "execution_count": 13,
   "id": "d72707b4",
   "metadata": {},
   "outputs": [
    {
     "data": {
      "text/plain": [
       "Index(['id', 'original_title', 'overview', 'genres', 'title'], dtype='object')"
      ]
     },
     "execution_count": 13,
     "metadata": {},
     "output_type": "execute_result"
    }
   ],
   "source": [
    "#check the movie_md.columns columns\n",
    "movie_md.columns"
   ]
  },
  {
   "cell_type": "code",
   "execution_count": 15,
   "id": "d514f66e",
   "metadata": {},
   "outputs": [
    {
     "data": {
      "image/png": "[encoded data removed]",
      "text/plain": [
       "<Figure size 864x720 with 1 Axes>"
      ]
     },
     "metadata": {},
     "output_type": "display_data"
    }
   ],
   "source": [
    "plt.figure(figsize=(12,10))\n",
    "\n",
    "top_genre_names, top_genre_frequency = zip(*{k: v for k, v in sorted(genres_frequency.items(), key=lambda item: item[1])}.items())\n",
    "\n",
    "explode = (0.0, 0.0, 0.0, 0.0, 0.0, 0.0, 0.0, 0.0, 0.0, 0.0, 0.0, 0.0, 0.0, 0.0, 0.0, 0.0, 0.0, 0.03, 0.05, 0.1)\n",
    "\n",
    "plt.pie(top_genre_frequency, labels=top_genre_names, explode=explode)\n",
    "plt.title('Top Genres')\n",
    "plt.show()"
   ]
  },
  {
   "cell_type": "markdown",
   "id": "4792abe9",
   "metadata": {},
   "source": [
    "Drama appears to be the most popular genre followed by Comedy"
   ]
  },
  {
   "cell_type": "code",
   "execution_count": 16,
   "id": "aff63e86",
   "metadata": {},
   "outputs": [
    {
     "data": {
      "image/png": "[encoded data removed]",
      "text/plain": [
       "<Figure size 864x720 with 1 Axes>"
      ]
     },
     "metadata": {
      "needs_background": "light"
     },
     "output_type": "display_data"
    }
   ],
   "source": [
    "plt.figure(figsize=(12,10))\n",
    "top_cast_names, top_cast_frequency = zip(*{k: v for k, v in sorted(cast_frequency.items(), key=lambda item: item[1])}.items())\n",
    "\n",
    "plt.barh(y=top_cast_names[-10:], width=top_cast_frequency[-10:], align='edge')\n",
    "\n",
    "plt.title('Actors with highest appearance')\n",
    "plt.show()"
   ]
  },
  {
   "cell_type": "code",
   "execution_count": 17,
   "id": "70e00bd9",
   "metadata": {},
   "outputs": [],
   "source": [
    "# TODO: add original_languages frequency, popularity against budget, average_vote against budget visualization"
   ]
  },
  {
   "cell_type": "code",
   "execution_count": 18,
   "id": "8412ee13",
   "metadata": {},
   "outputs": [],
   "source": [
    "from surprise import Dataset, Reader\n",
    "from surprise.prediction_algorithms.knns import KNNBasic"
   ]
  },
  {
   "cell_type": "code",
   "execution_count": 19,
   "id": "741fb90f",
   "metadata": {},
   "outputs": [],
   "source": [
    "# Initialize a surprise reader object\n",
    "reader = Reader(line_format='user item rating', sep=',', rating_scale=(0,5), skip_lines=1)\n",
    "\n",
    "# Load the data\n",
    "data = Dataset.load_from_df(ratings[['userId','movieId','rating']], reader=reader)\n",
    "\n",
    "# Build trainset object(perform this only when you are using whole dataset to train)\n",
    "trainset = data.build_full_trainset()"
   ]
  },
  {
   "cell_type": "code",
   "execution_count": 20,
   "id": "ac67bad2",
   "metadata": {},
   "outputs": [],
   "source": [
    "#Declaring the similarity options.\n",
    "sim_options = {'name': 'cosine',\n",
    "               'user_based': True}\n",
    "\n",
    "# KNN algorithm is used to find similar items\n",
    "sim_user = KNNBasic(sim_options=sim_options, verbose=False, random_state=33)\n",
    "\n",
    "# Train the algorithm on the trainset, and predict ratings for the testset\n",
    "sim_user.fit(trainset);"
   ]
  },
  {
   "cell_type": "code",
   "execution_count": 21,
   "id": "b42aca7d",
   "metadata": {},
   "outputs": [
    {
     "data": {
      "text/plain": [
       "Prediction(uid=2, iid=17, r_ui=5.0, est=4.166335018545322, details={'actual_k': 40, 'was_impossible': False})"
      ]
     },
     "execution_count": 21,
     "metadata": {},
     "output_type": "execute_result"
    }
   ],
   "source": [
    "sim_user.predict(uid=2,iid=17,r_ui=5.0)"
   ]
  },
  {
   "cell_type": "code",
   "execution_count": 22,
   "id": "11be54c5",
   "metadata": {},
   "outputs": [],
   "source": [
    "def get_recommendations(data, movie_md, user_id, top_n, algo):\n",
    "    \n",
    "    # creating an empty list to store the recommended product ids\n",
    "    recommendations = []\n",
    "    \n",
    "    # creating an user item interactions matrix \n",
    "    user_movie_interactions_matrix = data.pivot(index='userId', columns='movieId', values='rating')\n",
    "    \n",
    "    # extracting those product ids which the user_id has not interacted yet\n",
    "    non_interacted_movies = user_movie_interactions_matrix.loc[user_id][user_movie_interactions_matrix.loc[user_id].isnull()].index.tolist()\n",
    "    \n",
    "    # looping through each of the product ids which user_id has not interacted yet\n",
    "    for item_id in non_interacted_movies:\n",
    "        \n",
    "        # predicting the ratings for those non interacted product ids by this user\n",
    "        est = algo.predict(user_id, item_id).est\n",
    "        \n",
    "        # appending the predicted ratings\n",
    "        movie_name = movie_md[movie_md['id']==str(item_id)]['title'].values[0]\n",
    "        recommendations.append((movie_name, est))\n",
    "\n",
    "    # sorting the predicted ratings in descending order\n",
    "    recommendations.sort(key=lambda x: x[1], reverse=True)\n",
    "\n",
    "    return recommendations[:top_n] # returing top n highest predicted rating products for this user"
   ]
  },
  {
   "cell_type": "code",
   "execution_count": 23,
   "id": "118d4cd1",
   "metadata": {},
   "outputs": [
    {
     "ename": "IndexError",
     "evalue": "index 0 is out of bounds for axis 0 with size 0",
     "output_type": "error",
     "traceback": [
      "\u001b[1;31m---------------------------------------------------------------------------\u001b[0m",
      "\u001b[1;31mIndexError\u001b[0m                                Traceback (most recent call last)",
      "Input \u001b[1;32mIn [23]\u001b[0m, in \u001b[0;36m<cell line: 1>\u001b[1;34m()\u001b[0m\n\u001b[1;32m----> 1\u001b[0m \u001b[43mget_recommendations\u001b[49m\u001b[43m(\u001b[49m\u001b[43mratings\u001b[49m\u001b[43m,\u001b[49m\u001b[43m \u001b[49m\u001b[43mmovie_md\u001b[49m\u001b[43m,\u001b[49m\u001b[43m \u001b[49m\u001b[38;5;241;43m671\u001b[39;49m\u001b[43m,\u001b[49m\u001b[43m \u001b[49m\u001b[38;5;241;43m10\u001b[39;49m\u001b[43m,\u001b[49m\u001b[43m \u001b[49m\u001b[43msim_user\u001b[49m\u001b[43m)\u001b[49m\n",
      "Input \u001b[1;32mIn [22]\u001b[0m, in \u001b[0;36mget_recommendations\u001b[1;34m(data, movie_md, user_id, top_n, algo)\u001b[0m\n\u001b[0;32m     16\u001b[0m     est \u001b[38;5;241m=\u001b[39m algo\u001b[38;5;241m.\u001b[39mpredict(user_id, item_id)\u001b[38;5;241m.\u001b[39mest\n\u001b[0;32m     18\u001b[0m     \u001b[38;5;66;03m# appending the predicted ratings\u001b[39;00m\n\u001b[1;32m---> 19\u001b[0m     movie_name \u001b[38;5;241m=\u001b[39m \u001b[43mmovie_md\u001b[49m\u001b[43m[\u001b[49m\u001b[43mmovie_md\u001b[49m\u001b[43m[\u001b[49m\u001b[38;5;124;43m'\u001b[39;49m\u001b[38;5;124;43mid\u001b[39;49m\u001b[38;5;124;43m'\u001b[39;49m\u001b[43m]\u001b[49m\u001b[38;5;241;43m==\u001b[39;49m\u001b[38;5;28;43mstr\u001b[39;49m\u001b[43m(\u001b[49m\u001b[43mitem_id\u001b[49m\u001b[43m)\u001b[49m\u001b[43m]\u001b[49m\u001b[43m[\u001b[49m\u001b[38;5;124;43m'\u001b[39;49m\u001b[38;5;124;43mtitle\u001b[39;49m\u001b[38;5;124;43m'\u001b[39;49m\u001b[43m]\u001b[49m\u001b[38;5;241;43m.\u001b[39;49m\u001b[43mvalues\u001b[49m\u001b[43m[\u001b[49m\u001b[38;5;241;43m0\u001b[39;49m\u001b[43m]\u001b[49m\n\u001b[0;32m     20\u001b[0m     recommendations\u001b[38;5;241m.\u001b[39mappend((movie_name, est))\n\u001b[0;32m     22\u001b[0m \u001b[38;5;66;03m# sorting the predicted ratings in descending order\u001b[39;00m\n",
      "\u001b[1;31mIndexError\u001b[0m: index 0 is out of bounds for axis 0 with size 0"
     ]
    }
   ],
   "source": [
    "get_recommendations(ratings, movie_md, 671, 10, sim_user)"
   ]
  },
  {
   "cell_type": "code",
   "execution_count": null,
   "id": "f0bc24de",
   "metadata": {},
   "outputs": [],
   "source": [
    "import pickle\n",
    "\n",
    "# save the model to disk\n",
    "filename = 'recommendation_model.sav'\n",
    "pickle.dump(sim_user, open(filename, 'wb'))"
   ]
  },
  {
   "cell_type": "code",
   "execution_count": null,
   "id": "73a10e65",
   "metadata": {},
   "outputs": [],
   "source": [
    "# load the model from disk\n",
    "loaded_model = pickle.load(open(filename, 'rb'))\n",
    "get_recommendations(ratings, movie_md, 671, 10, loaded_model)"
   ]
  }
 ],
 "metadata": {
  "kernelspec": {
   "display_name": "Python 3 (ipykernel)",
   "language": "python",
   "name": "python3"
  },
  "language_info": {
   "codemirror_mode": {
    "name": "ipython",
    "version": 3
   },
   "file_extension": ".py",
   "mimetype": "text/x-python",
   "name": "python",
   "nbconvert_exporter": "python",
   "pygments_lexer": "ipython3",
   "version": "3.9.12"
  }
 },
 "nbformat": 4,
 "nbformat_minor": 5
}
