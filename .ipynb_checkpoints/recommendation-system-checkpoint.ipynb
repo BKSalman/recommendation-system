{
 "cells": [
  {
   "cell_type": "code",
<<<<<<< Updated upstream
   "execution_count": 91,
=======
   "execution_count": 1,
>>>>>>> Stashed changes
   "id": "cc0620f1",
   "metadata": {},
   "outputs": [],
   "source": [
    "import pandas as pd\n",
    "import numpy as np\n",
    "\n",
<<<<<<< Updated upstream
    "import ast\n",
    "import collections\n",
    "\n",
=======
>>>>>>> Stashed changes
    "import seaborn as sns\n",
    "import plotly.express as px\n",
    "import plotly.graph_objects as go\n",
    "import matplotlib.pyplot as plt\n",
    "from sklearn.feature_extraction.text import TfidfVectorizer\n",
    "from sklearn.metrics.pairwise import cosine_similarity\n",
<<<<<<< Updated upstream
    "from sklearn.decomposition import TruncatedSVD\n",
    "from sklearn.manifold import TSNE"
=======
    "from sklearn.decomposition import TruncatedSVD"
>>>>>>> Stashed changes
   ]
  },
  {
   "cell_type": "code",
<<<<<<< Updated upstream
   "execution_count": 92,
=======
   "execution_count": 2,
>>>>>>> Stashed changes
   "id": "efb28cca",
   "metadata": {},
   "outputs": [
    {
     "name": "stdout",
     "output_type": "stream",
     "text": [
      "(45466, 24)\n"
     ]
    }
   ],
   "source": [
    "movie_md=pd.read_csv('data/movies_metadata.csv',low_memory=False)\n",
    "movie_keywords=pd.read_csv('data/keywords.csv',low_memory=False)\n",
    "movie_credits=pd.read_csv('data/credits.csv',low_memory=False)\n",
    "print(movie_md.shape)"
   ]
  },
  {
   "cell_type": "code",
<<<<<<< Updated upstream
   "execution_count": 93,
=======
   "execution_count": 3,
>>>>>>> Stashed changes
   "id": "7d6a56f1",
   "metadata": {},
   "outputs": [],
   "source": [
    "movie_md = movie_md[movie_md['vote_count']>=55]\n",
    "movie_md = movie_md[['id','original_title','overview','genres']]\n",
    "movie_md['title'] = movie_md['original_title'].copy()\n",
    "movie_md.reset_index(inplace=True, drop=True)\n",
    "movie_credits = movie_credits[['id','cast']]"
   ]
  },
  {
   "cell_type": "code",
<<<<<<< Updated upstream
   "execution_count": 94,
=======
   "execution_count": 4,
>>>>>>> Stashed changes
   "id": "3a94bff0",
   "metadata": {},
   "outputs": [
    {
     "data": {
      "text/html": [
       "<div>\n",
       "<style scoped>\n",
       "    .dataframe tbody tr th:only-of-type {\n",
       "        vertical-align: middle;\n",
       "    }\n",
       "\n",
       "    .dataframe tbody tr th {\n",
       "        vertical-align: top;\n",
       "    }\n",
       "\n",
       "    .dataframe thead th {\n",
       "        text-align: right;\n",
       "    }\n",
       "</style>\n",
       "<table border=\"1\" class=\"dataframe\">\n",
       "  <thead>\n",
       "    <tr style=\"text-align: right;\">\n",
       "      <th></th>\n",
       "      <th>id</th>\n",
       "      <th>cast</th>\n",
       "    </tr>\n",
       "  </thead>\n",
       "  <tbody>\n",
       "    <tr>\n",
       "      <th>0</th>\n",
       "      <td>862</td>\n",
       "      <td>[{'cast_id': 14, 'character': 'Woody (voice)',...</td>\n",
       "    </tr>\n",
       "    <tr>\n",
       "      <th>1</th>\n",
       "      <td>8844</td>\n",
       "      <td>[{'cast_id': 1, 'character': 'Alan Parrish', '...</td>\n",
       "    </tr>\n",
       "    <tr>\n",
       "      <th>2</th>\n",
       "      <td>15602</td>\n",
       "      <td>[{'cast_id': 2, 'character': 'Max Goldman', 'c...</td>\n",
       "    </tr>\n",
       "    <tr>\n",
       "      <th>3</th>\n",
       "      <td>31357</td>\n",
       "      <td>[{'cast_id': 1, 'character': \"Savannah 'Vannah...</td>\n",
       "    </tr>\n",
       "    <tr>\n",
       "      <th>4</th>\n",
       "      <td>11862</td>\n",
       "      <td>[{'cast_id': 1, 'character': 'George Banks', '...</td>\n",
       "    </tr>\n",
       "  </tbody>\n",
       "</table>\n",
       "</div>"
      ],
      "text/plain": [
       "      id                                               cast\n",
       "0    862  [{'cast_id': 14, 'character': 'Woody (voice)',...\n",
       "1   8844  [{'cast_id': 1, 'character': 'Alan Parrish', '...\n",
       "2  15602  [{'cast_id': 2, 'character': 'Max Goldman', 'c...\n",
       "3  31357  [{'cast_id': 1, 'character': \"Savannah 'Vannah...\n",
       "4  11862  [{'cast_id': 1, 'character': 'George Banks', '..."
      ]
     },
<<<<<<< Updated upstream
     "execution_count": 94,
=======
     "execution_count": 4,
>>>>>>> Stashed changes
     "metadata": {},
     "output_type": "execute_result"
    }
   ],
   "source": [
    "movie_credits.head()"
   ]
  },
  {
   "cell_type": "code",
<<<<<<< Updated upstream
   "execution_count": 95,
=======
   "execution_count": 5,
>>>>>>> Stashed changes
   "id": "582178d8",
   "metadata": {},
   "outputs": [
    {
     "data": {
      "text/html": [
       "<div>\n",
       "<style scoped>\n",
       "    .dataframe tbody tr th:only-of-type {\n",
       "        vertical-align: middle;\n",
       "    }\n",
       "\n",
       "    .dataframe tbody tr th {\n",
       "        vertical-align: top;\n",
       "    }\n",
       "\n",
       "    .dataframe thead th {\n",
       "        text-align: right;\n",
       "    }\n",
       "</style>\n",
       "<table border=\"1\" class=\"dataframe\">\n",
       "  <thead>\n",
       "    <tr style=\"text-align: right;\">\n",
       "      <th></th>\n",
       "      <th>id</th>\n",
       "      <th>original_title</th>\n",
       "      <th>overview</th>\n",
       "      <th>genres</th>\n",
       "      <th>title</th>\n",
       "    </tr>\n",
       "  </thead>\n",
       "  <tbody>\n",
       "    <tr>\n",
       "      <th>0</th>\n",
       "      <td>862</td>\n",
       "      <td>Toy Story</td>\n",
       "      <td>Led by Woody, Andy's toys live happily in his ...</td>\n",
       "      <td>[{'id': 16, 'name': 'Animation'}, {'id': 35, '...</td>\n",
       "      <td>Toy Story</td>\n",
       "    </tr>\n",
       "    <tr>\n",
       "      <th>1</th>\n",
       "      <td>8844</td>\n",
       "      <td>Jumanji</td>\n",
       "      <td>When siblings Judy and Peter discover an encha...</td>\n",
       "      <td>[{'id': 12, 'name': 'Adventure'}, {'id': 14, '...</td>\n",
       "      <td>Jumanji</td>\n",
       "    </tr>\n",
       "    <tr>\n",
       "      <th>2</th>\n",
       "      <td>15602</td>\n",
       "      <td>Grumpier Old Men</td>\n",
       "      <td>A family wedding reignites the ancient feud be...</td>\n",
       "      <td>[{'id': 10749, 'name': 'Romance'}, {'id': 35, ...</td>\n",
       "      <td>Grumpier Old Men</td>\n",
       "    </tr>\n",
       "    <tr>\n",
       "      <th>3</th>\n",
       "      <td>11862</td>\n",
       "      <td>Father of the Bride Part II</td>\n",
       "      <td>Just when George Banks has recovered from his ...</td>\n",
       "      <td>[{'id': 35, 'name': 'Comedy'}]</td>\n",
       "      <td>Father of the Bride Part II</td>\n",
       "    </tr>\n",
       "    <tr>\n",
       "      <th>4</th>\n",
       "      <td>949</td>\n",
       "      <td>Heat</td>\n",
       "      <td>Obsessive master thief, Neil McCauley leads a ...</td>\n",
       "      <td>[{'id': 28, 'name': 'Action'}, {'id': 80, 'nam...</td>\n",
       "      <td>Heat</td>\n",
       "    </tr>\n",
       "  </tbody>\n",
       "</table>\n",
       "</div>"
      ],
      "text/plain": [
       "      id               original_title  \\\n",
       "0    862                    Toy Story   \n",
       "1   8844                      Jumanji   \n",
       "2  15602             Grumpier Old Men   \n",
       "3  11862  Father of the Bride Part II   \n",
       "4    949                         Heat   \n",
       "\n",
       "                                            overview  \\\n",
       "0  Led by Woody, Andy's toys live happily in his ...   \n",
       "1  When siblings Judy and Peter discover an encha...   \n",
       "2  A family wedding reignites the ancient feud be...   \n",
       "3  Just when George Banks has recovered from his ...   \n",
       "4  Obsessive master thief, Neil McCauley leads a ...   \n",
       "\n",
       "                                              genres  \\\n",
       "0  [{'id': 16, 'name': 'Animation'}, {'id': 35, '...   \n",
       "1  [{'id': 12, 'name': 'Adventure'}, {'id': 14, '...   \n",
       "2  [{'id': 10749, 'name': 'Romance'}, {'id': 35, ...   \n",
       "3                     [{'id': 35, 'name': 'Comedy'}]   \n",
       "4  [{'id': 28, 'name': 'Action'}, {'id': 80, 'nam...   \n",
       "\n",
       "                         title  \n",
       "0                    Toy Story  \n",
       "1                      Jumanji  \n",
       "2             Grumpier Old Men  \n",
       "3  Father of the Bride Part II  \n",
       "4                         Heat  "
      ]
     },
<<<<<<< Updated upstream
     "execution_count": 95,
=======
     "execution_count": 5,
>>>>>>> Stashed changes
     "metadata": {},
     "output_type": "execute_result"
    }
   ],
   "source": [
    "movie_md.head()"
   ]
  },
  {
<<<<<<< Updated upstream
   "cell_type": "markdown",
   "id": "e05c7331",
   "metadata": {},
   "source": [
    "## Data Cleaning & Preprocessing"
   ]
  },
  {
   "cell_type": "code",
   "execution_count": 96,
=======
   "cell_type": "code",
   "execution_count": 6,
>>>>>>> Stashed changes
   "id": "5e7213a9",
   "metadata": {},
   "outputs": [
    {
     "data": {
      "text/html": [
       "<div>\n",
       "<style scoped>\n",
       "    .dataframe tbody tr th:only-of-type {\n",
       "        vertical-align: middle;\n",
       "    }\n",
       "\n",
       "    .dataframe tbody tr th {\n",
       "        vertical-align: top;\n",
       "    }\n",
       "\n",
       "    .dataframe thead th {\n",
       "        text-align: right;\n",
       "    }\n",
       "</style>\n",
       "<table border=\"1\" class=\"dataframe\">\n",
       "  <thead>\n",
       "    <tr style=\"text-align: right;\">\n",
       "      <th></th>\n",
       "      <th>id</th>\n",
       "      <th>original_title</th>\n",
       "      <th>overview</th>\n",
       "      <th>genres</th>\n",
       "      <th>title</th>\n",
       "      <th>keywords</th>\n",
       "      <th>cast</th>\n",
       "    </tr>\n",
       "  </thead>\n",
       "  <tbody>\n",
       "    <tr>\n",
       "      <th>0</th>\n",
       "      <td>862</td>\n",
       "      <td>Toy Story</td>\n",
       "      <td>Led by Woody, Andy's toys live happily in his ...</td>\n",
       "      <td>[{'id': 16, 'name': 'Animation'}, {'id': 35, '...</td>\n",
       "      <td>Toy Story</td>\n",
       "      <td>[{'id': 931, 'name': 'jealousy'}, {'id': 4290,...</td>\n",
       "      <td>[{'cast_id': 14, 'character': 'Woody (voice)',...</td>\n",
       "    </tr>\n",
       "    <tr>\n",
       "      <th>1</th>\n",
       "      <td>8844</td>\n",
       "      <td>Jumanji</td>\n",
       "      <td>When siblings Judy and Peter discover an encha...</td>\n",
       "      <td>[{'id': 12, 'name': 'Adventure'}, {'id': 14, '...</td>\n",
       "      <td>Jumanji</td>\n",
       "      <td>[{'id': 10090, 'name': 'board game'}, {'id': 1...</td>\n",
       "      <td>[{'cast_id': 1, 'character': 'Alan Parrish', '...</td>\n",
       "    </tr>\n",
       "    <tr>\n",
       "      <th>2</th>\n",
       "      <td>15602</td>\n",
       "      <td>Grumpier Old Men</td>\n",
       "      <td>A family wedding reignites the ancient feud be...</td>\n",
       "      <td>[{'id': 10749, 'name': 'Romance'}, {'id': 35, ...</td>\n",
       "      <td>Grumpier Old Men</td>\n",
       "      <td>[{'id': 1495, 'name': 'fishing'}, {'id': 12392...</td>\n",
       "      <td>[{'cast_id': 2, 'character': 'Max Goldman', 'c...</td>\n",
       "    </tr>\n",
       "    <tr>\n",
       "      <th>3</th>\n",
       "      <td>11862</td>\n",
       "      <td>Father of the Bride Part II</td>\n",
       "      <td>Just when George Banks has recovered from his ...</td>\n",
       "      <td>[{'id': 35, 'name': 'Comedy'}]</td>\n",
       "      <td>Father of the Bride Part II</td>\n",
       "      <td>[{'id': 1009, 'name': 'baby'}, {'id': 1599, 'n...</td>\n",
       "      <td>[{'cast_id': 1, 'character': 'George Banks', '...</td>\n",
       "    </tr>\n",
       "    <tr>\n",
       "      <th>4</th>\n",
       "      <td>949</td>\n",
       "      <td>Heat</td>\n",
       "      <td>Obsessive master thief, Neil McCauley leads a ...</td>\n",
       "      <td>[{'id': 28, 'name': 'Action'}, {'id': 80, 'nam...</td>\n",
       "      <td>Heat</td>\n",
       "      <td>[{'id': 642, 'name': 'robbery'}, {'id': 703, '...</td>\n",
       "      <td>[{'cast_id': 25, 'character': 'Lt. Vincent Han...</td>\n",
       "    </tr>\n",
       "  </tbody>\n",
       "</table>\n",
       "</div>"
      ],
      "text/plain": [
       "      id               original_title  \\\n",
       "0    862                    Toy Story   \n",
       "1   8844                      Jumanji   \n",
       "2  15602             Grumpier Old Men   \n",
       "3  11862  Father of the Bride Part II   \n",
       "4    949                         Heat   \n",
       "\n",
       "                                            overview  \\\n",
       "0  Led by Woody, Andy's toys live happily in his ...   \n",
       "1  When siblings Judy and Peter discover an encha...   \n",
       "2  A family wedding reignites the ancient feud be...   \n",
       "3  Just when George Banks has recovered from his ...   \n",
       "4  Obsessive master thief, Neil McCauley leads a ...   \n",
       "\n",
       "                                              genres  \\\n",
       "0  [{'id': 16, 'name': 'Animation'}, {'id': 35, '...   \n",
       "1  [{'id': 12, 'name': 'Adventure'}, {'id': 14, '...   \n",
       "2  [{'id': 10749, 'name': 'Romance'}, {'id': 35, ...   \n",
       "3                     [{'id': 35, 'name': 'Comedy'}]   \n",
       "4  [{'id': 28, 'name': 'Action'}, {'id': 80, 'nam...   \n",
       "\n",
       "                         title  \\\n",
       "0                    Toy Story   \n",
       "1                      Jumanji   \n",
       "2             Grumpier Old Men   \n",
       "3  Father of the Bride Part II   \n",
       "4                         Heat   \n",
       "\n",
       "                                            keywords  \\\n",
       "0  [{'id': 931, 'name': 'jealousy'}, {'id': 4290,...   \n",
       "1  [{'id': 10090, 'name': 'board game'}, {'id': 1...   \n",
       "2  [{'id': 1495, 'name': 'fishing'}, {'id': 12392...   \n",
       "3  [{'id': 1009, 'name': 'baby'}, {'id': 1599, 'n...   \n",
       "4  [{'id': 642, 'name': 'robbery'}, {'id': 703, '...   \n",
       "\n",
       "                                                cast  \n",
       "0  [{'cast_id': 14, 'character': 'Woody (voice)',...  \n",
       "1  [{'cast_id': 1, 'character': 'Alan Parrish', '...  \n",
       "2  [{'cast_id': 2, 'character': 'Max Goldman', 'c...  \n",
       "3  [{'cast_id': 1, 'character': 'George Banks', '...  \n",
       "4  [{'cast_id': 25, 'character': 'Lt. Vincent Han...  "
      ]
     },
<<<<<<< Updated upstream
     "execution_count": 96,
=======
     "execution_count": 6,
>>>>>>> Stashed changes
     "metadata": {},
     "output_type": "execute_result"
    }
   ],
   "source": [
<<<<<<< Updated upstream
    "movie_md = movie_md[movie_md['id'].str.isnumeric()]\n",
    "\n",
=======
    "#Data Cleaning & Preprocessing\n",
    "#movie_md = movie_md[movie_md['id'].str.isnumeric()]\n",
>>>>>>> Stashed changes
    "movie_md['id'] = movie_md['id'].astype(int)\n",
    "\n",
    "df = pd.merge(movie_md, movie_keywords, on='id', how='left')\n",
    "\n",
    "df.reset_index(inplace=True, drop=True)\n",
    "\n",
    "df = pd.merge(df, movie_credits, on='id', how='left')\n",
    "\n",
    "df.reset_index(inplace=True, drop=True)\n",
    "\n",
<<<<<<< Updated upstream
    "df.head()\n"
=======
    "df.head()"
>>>>>>> Stashed changes
   ]
  },
  {
   "cell_type": "code",
<<<<<<< Updated upstream
   "execution_count": 97,
   "id": "2350d54b",
   "metadata": {
    "scrolled": true
   },
   "outputs": [
    {
     "name": "stdout",
     "output_type": "stream",
     "text": [
      "Counter({'Drama': 4033, 'Comedy': 3129, 'Thriller': 2473, 'Action': 1971, 'Romance': 1408, 'Adventure': 1341, 'Crime': 1307, 'Horror': 1221, 'Science Fiction': 991, 'Family': 916, 'Fantasy': 842, 'Mystery': 684, 'Animation': 672, 'History': 336, 'Music': 278, 'War': 263, 'Documentary': 180, 'Western': 149, 'TV Movie': 65, 'Foreign': 3})\n"
     ]
    },
    {
=======
   "execution_count": 7,
   "id": "2350d54b",
   "metadata": {},
   "outputs": [
    {
>>>>>>> Stashed changes
     "data": {
      "text/html": [
       "<div>\n",
       "<style scoped>\n",
       "    .dataframe tbody tr th:only-of-type {\n",
       "        vertical-align: middle;\n",
       "    }\n",
       "\n",
       "    .dataframe tbody tr th {\n",
       "        vertical-align: top;\n",
       "    }\n",
       "\n",
       "    .dataframe thead th {\n",
       "        text-align: right;\n",
       "    }\n",
       "</style>\n",
       "<table border=\"1\" class=\"dataframe\">\n",
       "  <thead>\n",
       "    <tr style=\"text-align: right;\">\n",
       "      <th></th>\n",
       "      <th>id</th>\n",
       "      <th>original_title</th>\n",
       "      <th>overview</th>\n",
       "      <th>genres</th>\n",
       "      <th>title</th>\n",
       "      <th>keywords</th>\n",
       "      <th>cast</th>\n",
       "    </tr>\n",
       "  </thead>\n",
       "  <tbody>\n",
       "    <tr>\n",
       "      <th>0</th>\n",
       "      <td>862</td>\n",
       "      <td>Toy Story</td>\n",
       "      <td>Led by Woody, Andy's toys live happily in his ...</td>\n",
       "      <td>Animation Comedy Family</td>\n",
       "      <td>Toy Story</td>\n",
       "      <td>jealousy toy boy friendship friends rivalry bo...</td>\n",
       "      <td>TomHanks TimAllen DonRickles JimVarney Wallace...</td>\n",
       "    </tr>\n",
       "    <tr>\n",
       "      <th>1</th>\n",
       "      <td>8844</td>\n",
       "      <td>Jumanji</td>\n",
       "      <td>When siblings Judy and Peter discover an encha...</td>\n",
       "      <td>Adventure Fantasy Family</td>\n",
       "      <td>Jumanji</td>\n",
       "      <td>boardgame disappearance basedonchildren'sbook ...</td>\n",
       "      <td>RobinWilliams JonathanHyde KirstenDunst Bradle...</td>\n",
       "    </tr>\n",
       "    <tr>\n",
       "      <th>2</th>\n",
       "      <td>15602</td>\n",
       "      <td>Grumpier Old Men</td>\n",
       "      <td>A family wedding reignites the ancient feud be...</td>\n",
       "      <td>Romance Comedy</td>\n",
       "      <td>Grumpier Old Men</td>\n",
       "      <td>fishing bestfriend duringcreditsstinger oldmen</td>\n",
       "      <td>WalterMatthau JackLemmon Ann-Margret SophiaLor...</td>\n",
       "    </tr>\n",
       "    <tr>\n",
       "      <th>3</th>\n",
       "      <td>11862</td>\n",
       "      <td>Father of the Bride Part II</td>\n",
       "      <td>Just when George Banks has recovered from his ...</td>\n",
       "      <td>Comedy</td>\n",
       "      <td>Father of the Bride Part II</td>\n",
       "      <td>baby midlifecrisis confidence aging daughter m...</td>\n",
       "      <td>SteveMartin DianeKeaton MartinShort KimberlyWi...</td>\n",
       "    </tr>\n",
       "    <tr>\n",
       "      <th>4</th>\n",
       "      <td>949</td>\n",
       "      <td>Heat</td>\n",
       "      <td>Obsessive master thief, Neil McCauley leads a ...</td>\n",
       "      <td>Action Crime Drama Thriller</td>\n",
       "      <td>Heat</td>\n",
       "      <td>robbery detective bank obsession chase shootin...</td>\n",
       "      <td>AlPacino RobertDeNiro ValKilmer JonVoight TomS...</td>\n",
       "    </tr>\n",
       "  </tbody>\n",
       "</table>\n",
       "</div>"
      ],
      "text/plain": [
       "      id               original_title  \\\n",
       "0    862                    Toy Story   \n",
       "1   8844                      Jumanji   \n",
       "2  15602             Grumpier Old Men   \n",
       "3  11862  Father of the Bride Part II   \n",
       "4    949                         Heat   \n",
       "\n",
       "                                            overview  \\\n",
       "0  Led by Woody, Andy's toys live happily in his ...   \n",
       "1  When siblings Judy and Peter discover an encha...   \n",
       "2  A family wedding reignites the ancient feud be...   \n",
       "3  Just when George Banks has recovered from his ...   \n",
       "4  Obsessive master thief, Neil McCauley leads a ...   \n",
       "\n",
       "                        genres                        title  \\\n",
       "0      Animation Comedy Family                    Toy Story   \n",
       "1     Adventure Fantasy Family                      Jumanji   \n",
       "2               Romance Comedy             Grumpier Old Men   \n",
       "3                       Comedy  Father of the Bride Part II   \n",
       "4  Action Crime Drama Thriller                         Heat   \n",
       "\n",
       "                                            keywords  \\\n",
       "0  jealousy toy boy friendship friends rivalry bo...   \n",
       "1  boardgame disappearance basedonchildren'sbook ...   \n",
       "2     fishing bestfriend duringcreditsstinger oldmen   \n",
       "3  baby midlifecrisis confidence aging daughter m...   \n",
       "4  robbery detective bank obsession chase shootin...   \n",
       "\n",
       "                                                cast  \n",
       "0  TomHanks TimAllen DonRickles JimVarney Wallace...  \n",
       "1  RobinWilliams JonathanHyde KirstenDunst Bradle...  \n",
       "2  WalterMatthau JackLemmon Ann-Margret SophiaLor...  \n",
       "3  SteveMartin DianeKeaton MartinShort KimberlyWi...  \n",
       "4  AlPacino RobertDeNiro ValKilmer JonVoight TomS...  "
      ]
     },
<<<<<<< Updated upstream
     "execution_count": 97,
=======
     "execution_count": 7,
>>>>>>> Stashed changes
     "metadata": {},
     "output_type": "execute_result"
    }
   ],
   "source": [
<<<<<<< Updated upstream
    "genres_list = []\n",
    "\n",
    "df['genres'].apply(lambda x: [genres_list.append(i['name']) for i in eval(x)])\n",
    "\n",
    "genres_frequency = collections.Counter(genres_list)\n",
    "\n",
=======
>>>>>>> Stashed changes
    "df['genres'] = df['genres'].apply(lambda x: [i['name'] for i in eval(x)])\n",
    "\n",
    "df['genres'] = df['genres'].apply(lambda x: ' '.join([i.replace(\" \",\"\") for i in x]))\n",
    "#Filling the nan values as []\n",
    "df['keywords'].fillna('[]', inplace=True)\n",
    "\n",
    "df['keywords'] = df['keywords'].apply(lambda x: [i['name'] for i in eval(x)])\n",
    "\n",
    "df['keywords'] = df['keywords'].apply(lambda x: ' '.join([i.replace(\" \",'') for i in x]))\n",
    "\n",
    "#Filling the nan values as []\n",
    "\n",
    "df['cast'].fillna('[]', inplace=True)\n",
    "\n",
<<<<<<< Updated upstream
    "cast_list = []\n",
    "\n",
    "df['cast'].apply(lambda x: [cast_list.append(i['name']) for i in eval(x)])\n",
    "\n",
    "cast_frequency = collections.Counter(cast_list)\n",
    "\n",
=======
>>>>>>> Stashed changes
    "df['cast'] = df['cast'].apply(lambda x: [i['name'] for i in eval(x)])\n",
    "\n",
    "df['cast'] = df['cast'].apply(lambda x: ' '.join([i.replace(\" \",'') for i in x]))\n",
    "df.head()"
   ]
  },
  {
<<<<<<< Updated upstream
   "cell_type": "markdown",
   "id": "cfaee90a",
   "metadata": {},
   "source": [
    "## merge all content/description of movies as a single feature"
   ]
  },
  {
=======
>>>>>>> Stashed changes
   "cell_type": "code",
   "execution_count": 8,
   "id": "357b200d",
   "metadata": {},
   "outputs": [
    {
     "data": {
      "text/html": [
       "<div>\n",
       "<style scoped>\n",
       "    .dataframe tbody tr th:only-of-type {\n",
       "        vertical-align: middle;\n",
       "    }\n",
       "\n",
       "    .dataframe tbody tr th {\n",
       "        vertical-align: top;\n",
       "    }\n",
       "\n",
       "    .dataframe thead th {\n",
       "        text-align: right;\n",
       "    }\n",
       "</style>\n",
       "<table border=\"1\" class=\"dataframe\">\n",
       "  <thead>\n",
       "    <tr style=\"text-align: right;\">\n",
       "      <th></th>\n",
       "      <th>id</th>\n",
       "      <th>title</th>\n",
       "      <th>tags</th>\n",
       "    </tr>\n",
       "  </thead>\n",
       "  <tbody>\n",
       "    <tr>\n",
       "      <th>0</th>\n",
       "      <td>862</td>\n",
       "      <td>Toy Story</td>\n",
       "      <td>Led by Woody, Andy's toys live happily in his ...</td>\n",
       "    </tr>\n",
       "    <tr>\n",
       "      <th>1</th>\n",
       "      <td>8844</td>\n",
       "      <td>Jumanji</td>\n",
       "      <td>When siblings Judy and Peter discover an encha...</td>\n",
       "    </tr>\n",
       "    <tr>\n",
       "      <th>2</th>\n",
       "      <td>15602</td>\n",
       "      <td>Grumpier Old Men</td>\n",
       "      <td>A family wedding reignites the ancient feud be...</td>\n",
       "    </tr>\n",
       "    <tr>\n",
       "      <th>3</th>\n",
       "      <td>11862</td>\n",
       "      <td>Father of the Bride Part II</td>\n",
       "      <td>Just when George Banks has recovered from his ...</td>\n",
       "    </tr>\n",
       "    <tr>\n",
       "      <th>4</th>\n",
       "      <td>949</td>\n",
       "      <td>Heat</td>\n",
       "      <td>Obsessive master thief, Neil McCauley leads a ...</td>\n",
       "    </tr>\n",
       "  </tbody>\n",
       "</table>\n",
       "</div>"
      ],
      "text/plain": [
       "      id                        title  \\\n",
       "0    862                    Toy Story   \n",
       "1   8844                      Jumanji   \n",
       "2  15602             Grumpier Old Men   \n",
       "3  11862  Father of the Bride Part II   \n",
       "4    949                         Heat   \n",
       "\n",
       "                                                tags  \n",
       "0  Led by Woody, Andy's toys live happily in his ...  \n",
       "1  When siblings Judy and Peter discover an encha...  \n",
       "2  A family wedding reignites the ancient feud be...  \n",
       "3  Just when George Banks has recovered from his ...  \n",
       "4  Obsessive master thief, Neil McCauley leads a ...  "
      ]
     },
     "execution_count": 8,
     "metadata": {},
     "output_type": "execute_result"
    }
   ],
   "source": [
<<<<<<< Updated upstream
=======
    "\n",
    "#merge all content/description of movies as a single feature\n",
>>>>>>> Stashed changes
    "df['tags'] = df['overview'] + ' ' + df['genres'] +  ' ' + df['original_title'] + ' ' + df['keywords'] + ' ' + df['cast']\n",
    "\n",
    "# Delete useless columns\n",
    "df.drop(columns=['genres','overview','original_title','keywords','cast'], inplace=True)\n",
    "df.head()"
   ]
  },
  {
   "cell_type": "code",
   "execution_count": 9,
   "id": "b27fb474",
   "metadata": {},
   "outputs": [],
   "source": [
    "df.isnull().sum()\n",
    "\n",
    "df.drop(df[df['tags'].isnull()].index, inplace=True)\n",
    "df.drop_duplicates(inplace=True)"
   ]
  },
  {
   "cell_type": "code",
<<<<<<< Updated upstream
   "execution_count": 10,
   "id": "4b6539b9",
   "metadata": {},
   "outputs": [
    {
     "name": "stdout",
     "output_type": "stream",
     "text": [
      "(8595, 3000)\n"
     ]
    }
   ],
=======
   "execution_count": null,
   "id": "4b6539b9",
   "metadata": {},
   "outputs": [],
>>>>>>> Stashed changes
   "source": [
    "tfidf = TfidfVectorizer(max_features=5000)\n",
    "vectorized_data = tfidf.fit_transform(df['tags'].values)\n",
    "vectorized_dataframe = pd.DataFrame(vectorized_data.toarray(), index=df['tags'].index.tolist())\n",
    "\n",
    "#Perform Dimension Reduction¶\n",
    "svd = TruncatedSVD(n_components=3000)\n",
    "\n",
    "# Fit transform the data\n",
    "reduced_data = svd.fit_transform(vectorized_dataframe)\n",
    "\n",
    "# Print the shape\n",
    "print(reduced_data.shape)\n",
    "\n",
    "\n",
    "#Compute a similarity metric on vectors for recommendation\n",
    "similarity = cosine_similarity(reduced_data)"
   ]
  },
  {
   "cell_type": "code",
<<<<<<< Updated upstream
   "execution_count": 11,
   "id": "556ba81e",
   "metadata": {},
   "outputs": [
    {
     "name": "stdout",
     "output_type": "stream",
     "text": [
      "Brubaker\n",
      "杀破狼2\n",
      "In Hell\n",
      "A Christmas Story\n",
      "Un prophète\n",
      "The Samaritan\n",
      "Dark Passage\n",
      "Lock Up\n",
      "Rosewater\n",
      "None\n"
     ]
    }
   ],
   "source": [
    "# Making recommendations for a given movie\n",
=======
   "execution_count": null,
   "id": "556ba81e",
   "metadata": {},
   "outputs": [],
   "source": [
    "#Making recommendations for a given movie\n",
>>>>>>> Stashed changes
    "def recommendation(movie_title):\n",
    "    id_of_movie = df[df['title'] == movie_title].index[0]\n",
    "    distances = similarity[id_of_movie]\n",
    "    movie_list = sorted(list(enumerate(distances)), reverse=True, key=lambda x: x[1])[1:10]\n",
    "\n",
    "    for i in movie_list:\n",
    "        print(df.iloc[i[0]].title)\n",
    "\n",
    "print(recommendation('The Shawshank Redemption'))"
   ]
  },
  {
   "cell_type": "code",
<<<<<<< Updated upstream
   "execution_count": 13,
   "id": "c4c8a8a6",
   "metadata": {},
   "outputs": [],
   "source": [
    "#We will merge the movies and credits dataframes and select the columns which are required and have a unified movies dataframe to work on.\n",
    "movie_md['genres'] = movie_md['genres'].str.strip('[]').str.replace(' ','').str.replace(\"'\",'')\n",
    "movie_md['genres'] = movie_md['genres'].str.split(',')"
=======
   "execution_count": null,
   "id": "afeea5db",
   "metadata": {},
   "outputs": [],
   "source": []
  },
  {
   "cell_type": "code",
   "execution_count": null,
   "id": "0029e793",
   "metadata": {},
   "outputs": [],
   "source": [
    "from IPython.display import Image\n",
    "Image(filename='diagrams/item-based.png')"
>>>>>>> Stashed changes
   ]
  },
  {
   "cell_type": "code",
<<<<<<< Updated upstream
   "execution_count": 14,
   "id": "d72707b4",
   "metadata": {},
   "outputs": [
    {
     "data": {
      "text/plain": [
       "Index(['id', 'original_title', 'overview', 'genres', 'title'], dtype='object')"
      ]
     },
     "execution_count": 14,
     "metadata": {},
     "output_type": "execute_result"
    }
   ],
   "source": [
    "#check the movie_md.columns columns\n",
    "movie_md.columns"
   ]
  },
  {
   "cell_type": "code",
   "execution_count": 90,
   "id": "d514f66e",
   "metadata": {},
   "outputs": [
    {
     "data": {
      "image/png": "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\n",
      "text/plain": [
       "<Figure size 864x720 with 1 Axes>"
      ]
     },
     "metadata": {
      "needs_background": "light"
     },
     "output_type": "display_data"
    }
   ],
   "source": [
    "plt.figure(figsize=(12,10))\n",
    "\n",
    "top_genre_genre_names, top_genre_frequency = zip(*{k: v for k, v in sorted(genres_frequency.items(), key=lambda item: item[1])}.items())\n",
    "\n",
    "plt.barh(y=top_genre_genre_names, width=top_genre_frequency, align='edge')\n",
    "plt.title('Top Genres')\n",
    "plt.show()"
   ]
  },
  {
   "cell_type": "markdown",
   "id": "4792abe9",
   "metadata": {},
   "source": [
    "Drama appears to be the most popular genre followed by Comedy"
   ]
  },
  {
   "cell_type": "code",
   "execution_count": 100,
   "id": "aff63e86",
   "metadata": {},
   "outputs": [
    {
     "name": "stdout",
     "output_type": "stream",
     "text": [
      "Counter()\n"
     ]
    },
    {
     "data": {
      "image/png": "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\n",
      "text/plain": [
       "<Figure size 864x720 with 1 Axes>"
      ]
     },
     "metadata": {
      "needs_background": "light"
     },
     "output_type": "display_data"
    }
   ],
   "source": [
    "plt.figure(figsize=(12,10))\n",
    "\n",
    "print(cast_frequency)\n",
    "\n",
    "# top_cast_names, top_cast_frequency = zip(*cast_frequency.items())\n",
    "plt.title('Actors with highest appearance')\n",
    "plt.show()"
   ]
  },
  {
   "cell_type": "code",
   "execution_count": 17,
   "id": "70e00bd9",
   "metadata": {},
   "outputs": [
    {
     "data": {
      "text/plain": [
       "Index(['id', 'original_title', 'overview', 'genres', 'title'], dtype='object')"
      ]
     },
     "execution_count": 17,
     "metadata": {},
     "output_type": "execute_result"
    }
   ],
   "source": [
    "movie_md.columns"
=======
   "execution_count": null,
   "id": "08c4511d",
   "metadata": {},
   "outputs": [],
   "source": [
    "Image(filename='diagrams/user-based.png')"
>>>>>>> Stashed changes
   ]
  }
 ],
 "metadata": {
  "kernelspec": {
   "display_name": "Python 3 (ipykernel)",
   "language": "python",
   "name": "python3"
  },
  "language_info": {
   "codemirror_mode": {
    "name": "ipython",
    "version": 3
   },
   "file_extension": ".py",
   "mimetype": "text/x-python",
   "name": "python",
   "nbconvert_exporter": "python",
   "pygments_lexer": "ipython3",
   "version": "3.9.12"
  }
 },
 "nbformat": 4,
 "nbformat_minor": 5
}
